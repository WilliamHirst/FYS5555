{
 "cells": [
  {
   "cell_type": "markdown",
   "metadata": {},
   "source": [
    "# Machine Learning on ATLAS Open Data"
   ]
  },
  {
   "cell_type": "code",
   "execution_count": 1,
   "metadata": {},
   "outputs": [],
   "source": [
    "import sys\n",
    "import pickle\n",
    "import json\n",
    "import numpy as np\n",
    "from numpy import random\n",
    "import pandas as pd\n",
    "import os.path\n",
    "from IPython.display import Image\n",
    "from IPython.core.display import HTML "
   ]
  },
  {
   "cell_type": "code",
   "execution_count": 2,
   "metadata": {},
   "outputs": [],
   "source": [
    "import uproot\n",
    "import vector\n",
    "import awkward"
   ]
  },
  {
   "cell_type": "code",
   "execution_count": 3,
   "metadata": {},
   "outputs": [],
   "source": [
    "import matplotlib\n",
    "import matplotlib.mlab as mlab\n",
    "import matplotlib.pyplot as plt\n",
    "from matplotlib.backends.backend_pdf import PdfPages\n",
    "import math\n",
    "# SKL\n",
    "from sklearn import metrics\n",
    "from sklearn.metrics import roc_curve\n",
    "from sklearn.metrics import roc_auc_score\n",
    "from sklearn.metrics import precision_recall_curve\n",
    "from sklearn.model_selection import train_test_split\n",
    "from sklearn import preprocessing"
   ]
  },
  {
   "cell_type": "code",
   "execution_count": 4,
   "metadata": {},
   "outputs": [],
   "source": [
    "import time"
   ]
  },
  {
   "cell_type": "code",
   "execution_count": 5,
   "metadata": {},
   "outputs": [],
   "source": [
    "from Utilities import *"
   ]
  },
  {
   "cell_type": "code",
   "execution_count": 6,
   "metadata": {},
   "outputs": [],
   "source": [
    "import glob"
   ]
  },
  {
   "cell_type": "code",
   "execution_count": 7,
   "metadata": {},
   "outputs": [],
   "source": [
    "#from keras.models import Sequential, load_model\n",
    "#from tensorflow.keras import layers, losses\n",
    "#from tensorflow.keras.datasets import fashion_mnist\n",
    "#from tensorflow.keras.models import Model"
   ]
  },
  {
   "cell_type": "code",
   "execution_count": 8,
   "metadata": {},
   "outputs": [],
   "source": [
    "#from tensorflow.python.client import device_lib "
   ]
  },
  {
   "cell_type": "code",
   "execution_count": 9,
   "metadata": {},
   "outputs": [],
   "source": [
    "import xgboost as XGB"
   ]
  },
  {
   "cell_type": "code",
   "execution_count": 10,
   "metadata": {},
   "outputs": [],
   "source": [
    "import sys\n",
    "import logging\n",
    "logging.basicConfig(\n",
    "                    format=\"%(message)s\",\n",
    "                    level=logging.ERROR,\n",
    "                    stream=sys.stdout)\n",
    "logging.getLogger('matplotlib.font_manager').disabled = True"
   ]
  },
  {
   "cell_type": "code",
   "execution_count": 11,
   "metadata": {},
   "outputs": [],
   "source": [
    "os.environ[\"CUDA_VISIBLE_DEVICES\"] = \"-1\""
   ]
  },
  {
   "cell_type": "markdown",
   "metadata": {},
   "source": [
    "Ok, let's start by reading in some data after we've loaded all of the modules above. The dataframe can in principle be any data frame with a set of features, but this examples will use a data frame created from the ATLAS Open data using the example in the NtupToDF notebook which you can find in [zpath github](https://github.uio.no/zpath/software/tree/master/Notebooks/ATLASOpenData/13TeV) (and which should also be accessible from the FYS5555 interactive session in Galaxy). But for this tutorial you would not need to bother about this since we already created a data frame which is directly accessible from the local disk."
   ]
  },
  {
   "cell_type": "code",
   "execution_count": 12,
   "metadata": {},
   "outputs": [],
   "source": [
    "df = pd.read_hdf(\"/storage/shared/data/2lep_df_forML_bkg_signal_fromRDF.hdf5\")\n",
    "df = df[((abs(df[\"mll\"]-91.2*1000)>20*1000) & (df[\"mt2\"] > 175*1000) & (df[\"met_et\"] > 50*1000) & (df[\"lep1_pt\"] > 80*1000) )]\n",
    "#df = df[((abs(df[\"mll\"]-91.2*1000)>20*1000) & (df[\"nbjet77\"] < 2) & (df[\"isOS\"] == 1) & (df[\"mt2\"] > 175*1000) & (df[\"met_et\"] > 50*1000) & (df[\"lep1_pt\"] > 80*1000) & (df[\"lep2_pt\"] > 25*1000) )]"
   ]
  },
  {
   "cell_type": "markdown",
   "metadata": {},
   "source": [
    "The signal simulations are put in a separate hdf5 file, but put it into (concatenate) the same data frame"
   ]
  },
  {
   "cell_type": "code",
   "execution_count": 13,
   "metadata": {},
   "outputs": [
    {
     "data": {
      "text/html": [
       "<div>\n",
       "<style scoped>\n",
       "    .dataframe tbody tr th:only-of-type {\n",
       "        vertical-align: middle;\n",
       "    }\n",
       "\n",
       "    .dataframe tbody tr th {\n",
       "        vertical-align: top;\n",
       "    }\n",
       "\n",
       "    .dataframe thead th {\n",
       "        text-align: right;\n",
       "    }\n",
       "</style>\n",
       "<table border=\"1\" class=\"dataframe\">\n",
       "  <thead>\n",
       "    <tr style=\"text-align: right;\">\n",
       "      <th></th>\n",
       "      <th>njet20</th>\n",
       "      <th>njet60</th>\n",
       "      <th>nbjet60</th>\n",
       "      <th>nbjet70</th>\n",
       "      <th>nbjet77</th>\n",
       "      <th>nbjet85</th>\n",
       "      <th>isOS</th>\n",
       "      <th>isSF</th>\n",
       "      <th>mll</th>\n",
       "      <th>mt2</th>\n",
       "      <th>...</th>\n",
       "      <th>lep2_etcone20</th>\n",
       "      <th>lep2_trackd0pvunbiased</th>\n",
       "      <th>lep2_tracksigd0pvunbiased</th>\n",
       "      <th>lep2_isTightID</th>\n",
       "      <th>lep2_z0</th>\n",
       "      <th>channelNumber</th>\n",
       "      <th>costhstar</th>\n",
       "      <th>weight</th>\n",
       "      <th>category</th>\n",
       "      <th>physdescr</th>\n",
       "    </tr>\n",
       "  </thead>\n",
       "  <tbody>\n",
       "    <tr>\n",
       "      <th>1129</th>\n",
       "      <td>3</td>\n",
       "      <td>1</td>\n",
       "      <td>0</td>\n",
       "      <td>0</td>\n",
       "      <td>0</td>\n",
       "      <td>0</td>\n",
       "      <td>1</td>\n",
       "      <td>1</td>\n",
       "      <td>213788.156250</td>\n",
       "      <td>480494.71875</td>\n",
       "      <td>...</td>\n",
       "      <td>-1573.111450</td>\n",
       "      <td>0.030186</td>\n",
       "      <td>2.802088</td>\n",
       "      <td>1.0</td>\n",
       "      <td>0.033432</td>\n",
       "      <td>361106</td>\n",
       "      <td>0.395508</td>\n",
       "      <td>0.185260</td>\n",
       "      <td>Zjetsincl</td>\n",
       "      <td>Zee</td>\n",
       "    </tr>\n",
       "    <tr>\n",
       "      <th>7368</th>\n",
       "      <td>2</td>\n",
       "      <td>1</td>\n",
       "      <td>0</td>\n",
       "      <td>0</td>\n",
       "      <td>0</td>\n",
       "      <td>0</td>\n",
       "      <td>0</td>\n",
       "      <td>0</td>\n",
       "      <td>168915.718750</td>\n",
       "      <td>211245.50000</td>\n",
       "      <td>...</td>\n",
       "      <td>-467.225098</td>\n",
       "      <td>-0.021665</td>\n",
       "      <td>1.506589</td>\n",
       "      <td>1.0</td>\n",
       "      <td>0.009510</td>\n",
       "      <td>361106</td>\n",
       "      <td>0.803752</td>\n",
       "      <td>0.087609</td>\n",
       "      <td>Zjetsincl</td>\n",
       "      <td>Zee</td>\n",
       "    </tr>\n",
       "    <tr>\n",
       "      <th>9143</th>\n",
       "      <td>1</td>\n",
       "      <td>0</td>\n",
       "      <td>0</td>\n",
       "      <td>0</td>\n",
       "      <td>0</td>\n",
       "      <td>0</td>\n",
       "      <td>0</td>\n",
       "      <td>0</td>\n",
       "      <td>133138.109375</td>\n",
       "      <td>179922.06250</td>\n",
       "      <td>...</td>\n",
       "      <td>1438.667969</td>\n",
       "      <td>0.016310</td>\n",
       "      <td>1.861121</td>\n",
       "      <td>1.0</td>\n",
       "      <td>-0.117218</td>\n",
       "      <td>361106</td>\n",
       "      <td>0.008190</td>\n",
       "      <td>0.181384</td>\n",
       "      <td>Zjetsincl</td>\n",
       "      <td>Zee</td>\n",
       "    </tr>\n",
       "    <tr>\n",
       "      <th>14729</th>\n",
       "      <td>1</td>\n",
       "      <td>0</td>\n",
       "      <td>0</td>\n",
       "      <td>0</td>\n",
       "      <td>0</td>\n",
       "      <td>0</td>\n",
       "      <td>1</td>\n",
       "      <td>0</td>\n",
       "      <td>179784.250000</td>\n",
       "      <td>248699.18750</td>\n",
       "      <td>...</td>\n",
       "      <td>1416.054688</td>\n",
       "      <td>-0.022272</td>\n",
       "      <td>1.382831</td>\n",
       "      <td>1.0</td>\n",
       "      <td>0.014559</td>\n",
       "      <td>361106</td>\n",
       "      <td>0.154806</td>\n",
       "      <td>0.226075</td>\n",
       "      <td>Zjetsincl</td>\n",
       "      <td>Zee</td>\n",
       "    </tr>\n",
       "    <tr>\n",
       "      <th>21368</th>\n",
       "      <td>1</td>\n",
       "      <td>0</td>\n",
       "      <td>0</td>\n",
       "      <td>0</td>\n",
       "      <td>0</td>\n",
       "      <td>1</td>\n",
       "      <td>1</td>\n",
       "      <td>1</td>\n",
       "      <td>361289.312500</td>\n",
       "      <td>310818.59375</td>\n",
       "      <td>...</td>\n",
       "      <td>2241.739014</td>\n",
       "      <td>0.017491</td>\n",
       "      <td>1.647560</td>\n",
       "      <td>1.0</td>\n",
       "      <td>-0.011581</td>\n",
       "      <td>361106</td>\n",
       "      <td>0.020878</td>\n",
       "      <td>0.293782</td>\n",
       "      <td>Zjetsincl</td>\n",
       "      <td>Zee</td>\n",
       "    </tr>\n",
       "  </tbody>\n",
       "</table>\n",
       "<p>5 rows × 39 columns</p>\n",
       "</div>"
      ],
      "text/plain": [
       "       njet20  njet60  nbjet60  nbjet70  nbjet77  nbjet85  isOS  isSF  \\\n",
       "1129        3       1        0        0        0        0     1     1   \n",
       "7368        2       1        0        0        0        0     0     0   \n",
       "9143        1       0        0        0        0        0     0     0   \n",
       "14729       1       0        0        0        0        0     1     0   \n",
       "21368       1       0        0        0        0        1     1     1   \n",
       "\n",
       "                 mll           mt2  ...  lep2_etcone20  \\\n",
       "1129   213788.156250  480494.71875  ...   -1573.111450   \n",
       "7368   168915.718750  211245.50000  ...    -467.225098   \n",
       "9143   133138.109375  179922.06250  ...    1438.667969   \n",
       "14729  179784.250000  248699.18750  ...    1416.054688   \n",
       "21368  361289.312500  310818.59375  ...    2241.739014   \n",
       "\n",
       "       lep2_trackd0pvunbiased  lep2_tracksigd0pvunbiased  lep2_isTightID  \\\n",
       "1129                 0.030186                   2.802088             1.0   \n",
       "7368                -0.021665                   1.506589             1.0   \n",
       "9143                 0.016310                   1.861121             1.0   \n",
       "14729               -0.022272                   1.382831             1.0   \n",
       "21368                0.017491                   1.647560             1.0   \n",
       "\n",
       "        lep2_z0  channelNumber  costhstar    weight   category  physdescr  \n",
       "1129   0.033432         361106   0.395508  0.185260  Zjetsincl        Zee  \n",
       "7368   0.009510         361106   0.803752  0.087609  Zjetsincl        Zee  \n",
       "9143  -0.117218         361106   0.008190  0.181384  Zjetsincl        Zee  \n",
       "14729  0.014559         361106   0.154806  0.226075  Zjetsincl        Zee  \n",
       "21368 -0.011581         361106   0.020878  0.293782  Zjetsincl        Zee  \n",
       "\n",
       "[5 rows x 39 columns]"
      ]
     },
     "execution_count": 13,
     "metadata": {},
     "output_type": "execute_result"
    }
   ],
   "source": [
    "df.head()"
   ]
  },
  {
   "cell_type": "markdown",
   "metadata": {},
   "source": [
    "... and here are all the features"
   ]
  },
  {
   "cell_type": "code",
   "execution_count": 14,
   "metadata": {},
   "outputs": [
    {
     "data": {
      "text/plain": [
       "Index(['njet20', 'njet60', 'nbjet60', 'nbjet70', 'nbjet77', 'nbjet85', 'isOS',\n",
       "       'isSF', 'mll', 'mt2', 'met_et', 'met_phi', 'lep1_flav', 'lep1_pt',\n",
       "       'lep1_eta', 'lep1_phi', 'lep1_E', 'lep1_ptcone30', 'lep1_etcone20',\n",
       "       'lep1_trackd0pvunbiased', 'lep1_tracksigd0pvunbiased', 'lep1_isTightID',\n",
       "       'lep1_z0', 'lep2_flav', 'lep2_pt', 'lep2_eta', 'lep2_phi', 'lep2_E',\n",
       "       'lep2_ptcone30', 'lep2_etcone20', 'lep2_trackd0pvunbiased',\n",
       "       'lep2_tracksigd0pvunbiased', 'lep2_isTightID', 'lep2_z0',\n",
       "       'channelNumber', 'costhstar', 'weight', 'category', 'physdescr'],\n",
       "      dtype='object')"
      ]
     },
     "execution_count": 14,
     "metadata": {},
     "output_type": "execute_result"
    }
   ],
   "source": [
    "df.columns"
   ]
  },
  {
   "cell_type": "markdown",
   "metadata": {},
   "source": [
    "And this is how many features and events we have"
   ]
  },
  {
   "cell_type": "code",
   "execution_count": 15,
   "metadata": {},
   "outputs": [
    {
     "name": "stdout",
     "output_type": "stream",
     "text": [
      "Number of events = 3207125\n",
      "Number of features = 39\n"
     ]
    }
   ],
   "source": [
    "print(\"Number of events = %i\"%df.shape[0])\n",
    "print(\"Number of features = %i\"%df.shape[1])"
   ]
  },
  {
   "cell_type": "markdown",
   "metadata": {},
   "source": [
    "Load some home made tools, mainly for reading ROOT files. Feel free to use you own."
   ]
  },
  {
   "cell_type": "code",
   "execution_count": 16,
   "metadata": {},
   "outputs": [],
   "source": [
    "from CommonTools import reconstructionError,relativeErrorByFeature, printResults\n",
    "from helpFuncs import *"
   ]
  },
  {
   "cell_type": "markdown",
   "metadata": {},
   "source": [
    "## Select the signal model"
   ]
  },
  {
   "cell_type": "markdown",
   "metadata": {},
   "source": [
    "Remove all unwanted signals."
   ]
  },
  {
   "cell_type": "code",
   "execution_count": 17,
   "metadata": {},
   "outputs": [
    {
     "name": "stdout",
     "output_type": "stream",
     "text": [
      "Background\n",
      "['Zjetsincl' 'Zjets' 'Diboson' 'Higgs' 'singleTop' 'topX' 'Wjets' 'ttbar'\n",
      " 'SUSYSlepSlep' 'Wjetsincl']\n"
     ]
    }
   ],
   "source": [
    "nonSig = ['GG_ttn1', 'Gee', 'Gmumu', 'RS_G_ZZ', 'SUSYC1C1', 'SUSYC1N2',\n",
    "           'TT_directTT', 'ZPrimeee', 'ZPrimemumu',\n",
    "           'ZPrimett', 'dmV_Zll']\n",
    "df = df[df['category'].isin(nonSig) == False]\n",
    "    \n",
    "print(\"Background\")\n",
    "print(df[\"category\"].unique())\n"
   ]
  },
  {
   "cell_type": "markdown",
   "metadata": {},
   "source": [
    "Add wanted signal"
   ]
  },
  {
   "cell_type": "code",
   "execution_count": 18,
   "metadata": {},
   "outputs": [],
   "source": [
    "df[\"isSignal\"] = df[\"category\"] == \"SUSYSlepSlep\""
   ]
  },
  {
   "cell_type": "markdown",
   "metadata": {},
   "source": [
    " Let's pick the SUSY chargino-chargino prouction decaying via leptons (SUSYC1C1). I.e. the following process."
   ]
  },
  {
   "cell_type": "markdown",
   "metadata": {},
   "source": [
    "Put the signal model we want into a new data frame"
   ]
  },
  {
   "cell_type": "markdown",
   "metadata": {},
   "source": [
    "and similarly for the background (removing all the signal models)"
   ]
  },
  {
   "cell_type": "markdown",
   "metadata": {},
   "source": [
    "We now have the background and signal samples we want to use in our machine learning studies below. Let's check the sizes of our samples"
   ]
  },
  {
   "cell_type": "code",
   "execution_count": 19,
   "metadata": {},
   "outputs": [],
   "source": [
    "Y =   np.array(df.isSignal)\n",
    "df.drop(['category','isSignal', 'channelNumber', 'physdescr'],axis=1,inplace=True)\n",
    "X = np.array(df)\n"
   ]
  },
  {
   "cell_type": "code",
   "execution_count": 20,
   "metadata": {},
   "outputs": [],
   "source": [
    "X_train, X_val, X_test, Y_train, Y_val, Y_test, W_train, W_val, W_test= splitData(X,Y,0.25, isEven = False, split_b = 0.01)\n"
   ]
  },
  {
   "cell_type": "code",
   "execution_count": 21,
   "metadata": {},
   "outputs": [],
   "source": [
    "wbkg_t = W_test[Y_test == 0.0]\n",
    "\n",
    "\n",
    "wsig = W_train[Y_train == 1.0]\n",
    "wbkg = W_train[Y_train == 0.0]\n",
    "\n",
    "wsig_v = W_val[Y_val == 1.0]\n",
    "wbkg_v = W_val[Y_val == 0.0]\n",
    "\n",
    "\n",
    "sum_wsig = sum( wsig )\n",
    "sum_wbkg = sum( wbkg )"
   ]
  },
  {
   "cell_type": "code",
   "execution_count": 22,
   "metadata": {},
   "outputs": [],
   "source": [
    "xgb = XGB.XGBClassifier(\n",
    "            max_depth=3, \n",
    "            n_estimators=120,\n",
    "            learning_rate=0.1,\n",
    "            n_jobs=4,\n",
    "            tree_method=\"hist\",\n",
    "            objective='binary:logistic',\n",
    "            scale_pos_weight=sum_wbkg/sum_wsig,\n",
    "            missing=-999.0,\n",
    "            use_label_encoder=False,\n",
    "            eval_metric=\"error\") \n",
    "\n",
    "xgb.fit(X_train,Y_train, sample_weight = W_train )\n",
    "\n",
    "pickle.dump(xgb, open(\"XGBoost_trained\", \"wb\"))\n"
   ]
  },
  {
   "cell_type": "code",
   "execution_count": null,
   "metadata": {},
   "outputs": [],
   "source": [
    "\"\"\"\n",
    "TRAINING DATA\n",
    "\"\"\"\n",
    "y_pred = xgb.predict_proba( X_train ) \n",
    "y_b = y_pred[:,1][Y_train==0]\n",
    "y_s = y_pred[:,1][Y_train==1]\n",
    "\n",
    "name = \"figures/train.pdf\"\n",
    "title =  \"XGB output, MC-data, training data\"\n",
    "plotHistoBS(y_b, y_s, wbkg, wsig, name, title,  nrBins = 50)\n",
    "\n",
    "title = \"ROC for XGB on MC-dataset (training)\"\n",
    "\n",
    "name = \"figures/train_ROC.pdf\"\n",
    "\n",
    "plotRoc(Y_train, y_pred, W_train, title, name = name)"
   ]
  },
  {
   "cell_type": "code",
   "execution_count": null,
   "metadata": {},
   "outputs": [],
   "source": [
    "y_pred = xgb.predict_proba( X_val ) \n",
    "y_b = y_pred[:,1][Y_val==0]\n",
    "y_s = y_pred[:,1][Y_val==1]\n",
    "\n",
    "name = \"figures/validation.pdf\"\n",
    "title =  \"XGB output, MC-data, validation data\"\n",
    "plotHistoBS(y_b, y_s, wbkg_v, wsig_v, name, title, nrBins = 50)\n",
    "\n",
    "title = \"ROC for XGB on MC-dataset (valdiation)\"\n",
    "name = \"figures/validation_ROC.pdf\"\n",
    "fpr, tpr, thresholds = plotRoc(Y_val, y_pred, W_val, title, return_score = True, name = name)\n",
    "gmeans = np.sqrt(np.array(tpr) * (1-np.array(fpr)/np.max(np.array(fpr))))\n",
    "ix = np.argmax(gmeans)\n",
    "best_threshold = thresholds[ix]\n",
    "print('Best Threshold=%f, G-Mean=%.3f' % (best_threshold, gmeans[ix]))"
   ]
  },
  {
   "cell_type": "code",
   "execution_count": null,
   "metadata": {},
   "outputs": [],
   "source": [
    "\"\"\"\n",
    "TEST DATA\n",
    "\"\"\"\n",
    "y_b = xgb.predict_proba( X_test )[:,1]\n",
    "\n",
    "name = \"figures/BackgroundMC.pdf\"\n",
    "title =  \"XGB output, MC-data, All background \"\n",
    "plotHistoB(y_b, wbkg_t, name, title, best_threshold, nrBins = 15)\n",
    "print(f\"Nr of false positives {np.sum(y_b>best_threshold)}\")"
   ]
  },
  {
   "cell_type": "markdown",
   "metadata": {},
   "source": [
    "# Control Regions\n",
    "In this section I will define the controll regions."
   ]
  },
  {
   "cell_type": "code",
   "execution_count": null,
   "metadata": {},
   "outputs": [],
   "source": []
  },
  {
   "cell_type": "code",
   "execution_count": null,
   "metadata": {},
   "outputs": [],
   "source": []
  }
 ],
 "metadata": {
  "kernelspec": {
   "display_name": "Python 3 (ipykernel)",
   "language": "python",
   "name": "python3"
  },
  "language_info": {
   "codemirror_mode": {
    "name": "ipython",
    "version": 3
   },
   "file_extension": ".py",
   "mimetype": "text/x-python",
   "name": "python",
   "nbconvert_exporter": "python",
   "pygments_lexer": "ipython3",
   "version": "3.7.4"
  }
 },
 "nbformat": 4,
 "nbformat_minor": 4
}
